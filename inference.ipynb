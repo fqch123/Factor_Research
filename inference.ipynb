{
 "cells": [
  {
   "cell_type": "code",
   "execution_count": 29,
   "metadata": {},
   "outputs": [],
   "source": [
    "import akshare as ak\n",
    "import polars as pl\n",
    "import numpy as np\n",
    "import pandas as pd\n",
    "import empyrical as ep\n",
    "from dateutil.parser import parse\n",
    "from datetime import datetime\n",
    "import jqdatasdk as jq\n",
    "import seaborn as sns\n",
    "import matplotlib.pyplot as plt\n",
    "from Data_Fetcher import *\n",
    "from Factor_calculation import *\n",
    "from Factor_Evaluation import *\n",
    "from pylab import mpl\n",
    "mpl.rcParams['font.sans-serif'] = ['SimHei'] # 指定默认字体：解决plot不能显示中文问题\n",
    "mpl.rcParams['axes.unicode_minus'] = False # 解决保存图像是负号'-'显示为方块的问题\n",
    "plt.style.use('seaborn-v0_8')"
   ]
  },
  {
   "cell_type": "code",
   "execution_count": 2,
   "metadata": {},
   "outputs": [],
   "source": [
    "code_list = load_csi500_components('.\\\\中证500指数成分股_月末_2016-2023.xlsx')['stock_code'].unique().to_list()\n",
    "stock_data = load_stock_data(code_list, '20150101', '20231231')"
   ]
  },
  {
   "cell_type": "code",
   "execution_count": null,
   "metadata": {},
   "outputs": [],
   "source": [
    "stock_data"
   ]
  },
  {
   "cell_type": "code",
   "execution_count": 5,
   "metadata": {},
   "outputs": [],
   "source": [
    "price_factor = price_factors_calculation(stock_data)"
   ]
  },
  {
   "cell_type": "code",
   "execution_count": null,
   "metadata": {},
   "outputs": [],
   "source": [
    "price_factor"
   ]
  },
  {
   "cell_type": "code",
   "execution_count": 7,
   "metadata": {},
   "outputs": [],
   "source": [
    "# 计算 Alpha#002 因子\n",
    "alpha_2 = alpha_002(stock_data)"
   ]
  },
  {
   "cell_type": "code",
   "execution_count": 8,
   "metadata": {},
   "outputs": [],
   "source": [
    "# 计算 Alpha#003 因子\n",
    "alpha_3 = alpha_003(stock_data)"
   ]
  },
  {
   "cell_type": "code",
   "execution_count": null,
   "metadata": {},
   "outputs": [],
   "source": [
    "fundamental_factor = pl.read_excel('基本面因子.xlsx')\n",
    "fundamental_factor=fundamental_factor.with_columns(pl.col('date').str.strptime(pl.Date,'%Y-%m-%d'))\n",
    "fundamental_factor"
   ]
  },
  {
   "cell_type": "code",
   "execution_count": null,
   "metadata": {},
   "outputs": [],
   "source": [
    "csi500_data = pl.read_excel('中证500指数成分股_月末_2016-2023.xlsx')\n",
    "csi500_data = csi500_data.with_columns(pl.col('date').str.strptime(pl.Date,'%Y-%m-%d'))\n",
    "csi500_data"
   ]
  },
  {
   "cell_type": "code",
   "execution_count": null,
   "metadata": {},
   "outputs": [],
   "source": [
    "\n",
    "# 将 csi500_data 与 stock_data 合并\n",
    "merged_data = (\n",
    "    csi500_data\n",
    "    .join(\n",
    "        stock_data,\n",
    "        left_on=['date', 'stock_code'],\n",
    "        right_on=['日期', '股票代码']\n",
    "    )\n",
    "    .sort(['stock_code', 'date'])\n",
    ")\n",
    "\n",
    "# 计算下一月收益率\n",
    "result = (\n",
    "    merged_data\n",
    "    .groupby('stock_code')\n",
    "    .apply(lambda group: \n",
    "        group.with_columns(\n",
    "            pl.col('收盘').pct_change().shift(-1).alias('next_month_return')\n",
    "        )\n",
    "    )\n",
    "    .select(['date', 'stock_code', 'next_month_return'])\n",
    ")\n",
    "\n"
   ]
  },
  {
   "cell_type": "code",
   "execution_count": 12,
   "metadata": {},
   "outputs": [],
   "source": [
    "#计算中证500指数收益率\n",
    "csi500_return = load_index_data('20150101', '20231231')\n",
    "csi500_return = csi500_return.with_columns(pl.col('日期').str.strptime(pl.Date,'%Y-%m-%d'))\n",
    "\n",
    "# 获取 csi500_data 中的唯一日期\n",
    "unique_dates = csi500_data['date'].unique().sort()\n",
    "\n",
    "# 将 csi500_return 与唯一日期合并\n",
    "merged_index_data = (\n",
    "    pl.DataFrame({'date': unique_dates})\n",
    "    .join(\n",
    "        csi500_return,\n",
    "        left_on='date',\n",
    "        right_on='日期',\n",
    "        how='left'\n",
    "    )\n",
    "    .sort('date')\n",
    ")\n",
    "\n",
    "# 计算下一月收益率\n",
    "index_result = (\n",
    "    merged_index_data\n",
    "    .with_columns(\n",
    "        pl.col('收盘').pct_change().shift(-1).alias('next_month_return')\n",
    "    )\n",
    "    .select(['date', 'next_month_return'])\n",
    ")\n",
    "\n"
   ]
  },
  {
   "cell_type": "code",
   "execution_count": 13,
   "metadata": {},
   "outputs": [],
   "source": [
    "\n",
    "# 合并所有因子数据\n",
    "merged_factors = (\n",
    "    result\n",
    "    .join(fundamental_factor, left_on=['date', 'stock_code'], right_on=['date', 'code'], how='left')\n",
    "    .join(price_factor, left_on=['date', 'stock_code'], right_on=['日期', '股票代码'], how='left')\n",
    "    .join(alpha_2, left_on=['date', 'stock_code'], right_on=['日期', '股票代码'], how='left')\n",
    "    .join(alpha_3, left_on=['date', 'stock_code'], right_on=['日期', '股票代码'], how='left')\n",
    ")\n",
    "merged_factors = merged_factors.drop_nulls()\n",
    "# 定义因子列表\n",
    "factor_cols = ['size_factor', 'value_factor', 'profitability_factor', '10日动量', '20日波动率', \n",
    "               '相对成交量', '60日相对强弱', '价量比', 'alpha002', 'alpha003']\n",
    "\n"
   ]
  },
  {
   "cell_type": "code",
   "execution_count": 14,
   "metadata": {},
   "outputs": [],
   "source": [
    "#设置双重索引\n",
    "merged_factors = merged_factors.to_pandas()\n",
    "merged_factors = merged_factors.set_index(['date','stock_code']).sort_index()\n"
   ]
  },
  {
   "cell_type": "code",
   "execution_count": null,
   "metadata": {},
   "outputs": [],
   "source": [
    "#根据因子进行分组\n",
    "grouped_factors = get_group(merged_factors, '价量比')\n",
    "grouped_factors\n"
   ]
  },
  {
   "cell_type": "code",
   "execution_count": 16,
   "metadata": {},
   "outputs": [],
   "source": [
    "index_result = index_result.to_pandas()\n",
    "index_result = index_result.dropna()\n",
    "index_result = index_result.set_index('date')"
   ]
  },
  {
   "cell_type": "code",
   "execution_count": null,
   "metadata": {},
   "outputs": [],
   "source": [
    "\n",
    "returns = get_algorithm_return(grouped_factors)\n",
    "returns['benchmark'] = index_result['next_month_return']\n",
    "returns['excess_ret'] = returns['G5'] - returns['G1']\n",
    "cum_df = np.exp(np.log1p(returns).cumsum())\n",
    "\n",
    "plot_nav(cum_df,'价量比')"
   ]
  },
  {
   "cell_type": "code",
   "execution_count": null,
   "metadata": {},
   "outputs": [],
   "source": [
    "ic_plot(merged_factors,'价量比')\n"
   ]
  },
  {
   "cell_type": "code",
   "execution_count": null,
   "metadata": {},
   "outputs": [],
   "source": [
    "(Strategy_performance(returns).style.format('{:.2%}')\n",
    "                                     .set_caption('价量比')\n",
    "                                     .highlight_max(axis=1, color='#d65f5f')\n",
    "                                     .highlight_min(axis=1, color='#5fba7d'))"
   ]
  }
 ],
 "metadata": {
  "kernelspec": {
   "display_name": "test",
   "language": "python",
   "name": "test"
  },
  "language_info": {
   "codemirror_mode": {
    "name": "ipython",
    "version": 3
   },
   "file_extension": ".py",
   "mimetype": "text/x-python",
   "name": "python",
   "nbconvert_exporter": "python",
   "pygments_lexer": "ipython3",
   "version": "3.9.18"
  }
 },
 "nbformat": 4,
 "nbformat_minor": 2
}
